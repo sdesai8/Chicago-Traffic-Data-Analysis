{
 "cells": [
  {
   "cell_type": "markdown",
   "metadata": {},
   "source": [
    "# Analyzing Chicago Traffic Data\n",
    "        This dataset reflects the daily volume of violations that have occurred in Children's Safety Zones for each camera. The data reflects violations that occurred from July 1, 2014 until present, minus the most recent 14 days. This data may change due to occasional time lags between the capturing of a potential violation and the processing and determination of a violation. The most recent 14 days are not shown due to revised data being submitted to the City of Chicago. The reported violations are those that have been collected by the camera and radar system and reviewed by two separate City contractors. In some instances, due to the inability the registered owner of the offending vehicle, the violation may not be issued as a citation. However, this dataset contains all violations regardless of whether a citation was issued, which provides an accurate view into the Automated Speed Enforcement Program violations taking place in Children's Safety Zones.\n",
    "        "
   ]
  },
  {
   "cell_type": "code",
   "execution_count": 1,
   "metadata": {},
   "outputs": [],
   "source": [
    "# import all packages\n",
    "\n",
    "import numpy as np\n",
    "import pandas as pd\n",
    "import matplotlib.pyplot as plt\n",
    "import os\n",
    "\n"
   ]
  },
  {
   "cell_type": "markdown",
   "metadata": {},
   "source": [
    "### Loading the Dataset "
   ]
  },
  {
   "cell_type": "code",
   "execution_count": 2,
   "metadata": {},
   "outputs": [],
   "source": [
    "# Build the DataFrame \n",
    "df = pd.read_csv(\"C:\\\\Users\\\\savan\\\\Speed_Camera_Violations.csv\")\n"
   ]
  },
  {
   "cell_type": "code",
   "execution_count": 3,
   "metadata": {},
   "outputs": [
    {
     "data": {
      "text/plain": [
       "(170521, 9)"
      ]
     },
     "execution_count": 3,
     "metadata": {},
     "output_type": "execute_result"
    }
   ],
   "source": [
    "# Check dimentions of dataset\n",
    "df.shape"
   ]
  },
  {
   "cell_type": "markdown",
   "metadata": {},
   "source": [
    "## Columns in Datasets:\n",
    "\n",
    "\n",
    "####  ADDRESS\t: Object (Text)\n",
    "Address of the location of the speed enforcement camera(s). There may be more than one camera at each address.\n",
    "\n",
    "####  CAMERA ID : Object (Text)\t\n",
    "A unique ID associated with the physical camera at each location. There may be more than one camera at a physical address.\n",
    " \n",
    "####  VIOLATION DATE : Object (Floating Timestamp)\n",
    "The date of when the violations occurred. NOTE: The citation may be issued on a different date.\n",
    "\n",
    "####  VIOLATIONS : int64 (Number)\n",
    "Number of violations for each camera on a particular day.\n",
    "\n",
    "####  X COORDINATE : float64(Number)\t\n",
    "The X Coordinate, measured in feet, of the location of the camera. Geocoded using Illinois State Plane East (ESRI:102671).\n",
    "\n",
    "####  Y COORDINATE : float64(Number)\n",
    "The Y Coordinate, measured in feet, of the location of the camera. Geocoded using Illinois State Plane East (ESRI:102671).\n",
    "\n",
    "####  LATITUDE : float64(Number)\t\n",
    "The latitude of the physical location of the camera(s) based on the ADDRESS column. Geocoded using the WGS84.\n",
    "\n",
    "####  LONGITUDE : float64(Number)\t\n",
    "The longitude of the physical location of the camera(s) based on the ADDRESS column. Geocoded using the WGS84.\n",
    "\n",
    "####  LOCATION : object(Location)\t\n",
    "The coordinates of the camera(s) based on the LATITUDE and LONGITUDE columns. Geocoded using the WGS84.\n"
   ]
  },
  {
   "cell_type": "code",
   "execution_count": 4,
   "metadata": {},
   "outputs": [
    {
     "data": {
      "text/plain": [
       "ADDRESS            object\n",
       "CAMERA ID          object\n",
       "VIOLATION DATE     object\n",
       "VIOLATIONS          int64\n",
       "X COORDINATE      float64\n",
       "Y COORDINATE      float64\n",
       "LATITUDE          float64\n",
       "LONGITUDE         float64\n",
       "LOCATION           object\n",
       "dtype: object"
      ]
     },
     "execution_count": 4,
     "metadata": {},
     "output_type": "execute_result"
    }
   ],
   "source": [
    "#Check type of labels\n",
    "df.dtypes"
   ]
  },
  {
   "cell_type": "code",
   "execution_count": 5,
   "metadata": {
    "scrolled": true
   },
   "outputs": [
    {
     "data": {
      "text/html": [
       "<div>\n",
       "<style scoped>\n",
       "    .dataframe tbody tr th:only-of-type {\n",
       "        vertical-align: middle;\n",
       "    }\n",
       "\n",
       "    .dataframe tbody tr th {\n",
       "        vertical-align: top;\n",
       "    }\n",
       "\n",
       "    .dataframe thead th {\n",
       "        text-align: right;\n",
       "    }\n",
       "</style>\n",
       "<table border=\"1\" class=\"dataframe\">\n",
       "  <thead>\n",
       "    <tr style=\"text-align: right;\">\n",
       "      <th></th>\n",
       "      <th>ADDRESS</th>\n",
       "      <th>CAMERA ID</th>\n",
       "      <th>VIOLATION DATE</th>\n",
       "      <th>VIOLATIONS</th>\n",
       "      <th>X COORDINATE</th>\n",
       "      <th>Y COORDINATE</th>\n",
       "      <th>LATITUDE</th>\n",
       "      <th>LONGITUDE</th>\n",
       "      <th>LOCATION</th>\n",
       "    </tr>\n",
       "  </thead>\n",
       "  <tbody>\n",
       "    <tr>\n",
       "      <th>0</th>\n",
       "      <td>7738 S WESTERN</td>\n",
       "      <td>CHI065</td>\n",
       "      <td>7/8/2014</td>\n",
       "      <td>65</td>\n",
       "      <td>NaN</td>\n",
       "      <td>NaN</td>\n",
       "      <td>NaN</td>\n",
       "      <td>NaN</td>\n",
       "      <td>NaN</td>\n",
       "    </tr>\n",
       "    <tr>\n",
       "      <th>1</th>\n",
       "      <td>1111 N HUMBOLDT</td>\n",
       "      <td>CHI010</td>\n",
       "      <td>7/16/2014</td>\n",
       "      <td>56</td>\n",
       "      <td>NaN</td>\n",
       "      <td>NaN</td>\n",
       "      <td>NaN</td>\n",
       "      <td>NaN</td>\n",
       "      <td>NaN</td>\n",
       "    </tr>\n",
       "    <tr>\n",
       "      <th>2</th>\n",
       "      <td>5520 S WESTERN</td>\n",
       "      <td>CHI069</td>\n",
       "      <td>7/8/2014</td>\n",
       "      <td>10</td>\n",
       "      <td>NaN</td>\n",
       "      <td>NaN</td>\n",
       "      <td>NaN</td>\n",
       "      <td>NaN</td>\n",
       "      <td>NaN</td>\n",
       "    </tr>\n",
       "    <tr>\n",
       "      <th>3</th>\n",
       "      <td>1111 N HUMBOLDT</td>\n",
       "      <td>CHI010</td>\n",
       "      <td>7/26/2014</td>\n",
       "      <td>101</td>\n",
       "      <td>NaN</td>\n",
       "      <td>NaN</td>\n",
       "      <td>NaN</td>\n",
       "      <td>NaN</td>\n",
       "      <td>NaN</td>\n",
       "    </tr>\n",
       "    <tr>\n",
       "      <th>4</th>\n",
       "      <td>1111 N HUMBOLDT</td>\n",
       "      <td>CHI010</td>\n",
       "      <td>7/27/2014</td>\n",
       "      <td>92</td>\n",
       "      <td>NaN</td>\n",
       "      <td>NaN</td>\n",
       "      <td>NaN</td>\n",
       "      <td>NaN</td>\n",
       "      <td>NaN</td>\n",
       "    </tr>\n",
       "  </tbody>\n",
       "</table>\n",
       "</div>"
      ],
      "text/plain": [
       "           ADDRESS CAMERA ID VIOLATION DATE  VIOLATIONS  X COORDINATE  \\\n",
       "0   7738 S WESTERN    CHI065       7/8/2014          65           NaN   \n",
       "1  1111 N HUMBOLDT    CHI010      7/16/2014          56           NaN   \n",
       "2   5520 S WESTERN    CHI069       7/8/2014          10           NaN   \n",
       "3  1111 N HUMBOLDT    CHI010      7/26/2014         101           NaN   \n",
       "4  1111 N HUMBOLDT    CHI010      7/27/2014          92           NaN   \n",
       "\n",
       "   Y COORDINATE  LATITUDE  LONGITUDE LOCATION  \n",
       "0           NaN       NaN        NaN      NaN  \n",
       "1           NaN       NaN        NaN      NaN  \n",
       "2           NaN       NaN        NaN      NaN  \n",
       "3           NaN       NaN        NaN      NaN  \n",
       "4           NaN       NaN        NaN      NaN  "
      ]
     },
     "execution_count": 5,
     "metadata": {},
     "output_type": "execute_result"
    }
   ],
   "source": [
    "df.head()"
   ]
  },
  {
   "cell_type": "code",
   "execution_count": 6,
   "metadata": {
    "scrolled": true
   },
   "outputs": [
    {
     "data": {
      "text/html": [
       "<div>\n",
       "<style scoped>\n",
       "    .dataframe tbody tr th:only-of-type {\n",
       "        vertical-align: middle;\n",
       "    }\n",
       "\n",
       "    .dataframe tbody tr th {\n",
       "        vertical-align: top;\n",
       "    }\n",
       "\n",
       "    .dataframe thead th {\n",
       "        text-align: right;\n",
       "    }\n",
       "</style>\n",
       "<table border=\"1\" class=\"dataframe\">\n",
       "  <thead>\n",
       "    <tr style=\"text-align: right;\">\n",
       "      <th></th>\n",
       "      <th>count</th>\n",
       "      <th>mean</th>\n",
       "      <th>std</th>\n",
       "      <th>min</th>\n",
       "      <th>25%</th>\n",
       "      <th>50%</th>\n",
       "      <th>75%</th>\n",
       "      <th>max</th>\n",
       "    </tr>\n",
       "  </thead>\n",
       "  <tbody>\n",
       "    <tr>\n",
       "      <th>VIOLATIONS</th>\n",
       "      <td>170521.0</td>\n",
       "      <td>2.888045e+01</td>\n",
       "      <td>36.636151</td>\n",
       "      <td>1.000000e+00</td>\n",
       "      <td>7.000000e+00</td>\n",
       "      <td>1.600000e+01</td>\n",
       "      <td>3.700000e+01</td>\n",
       "      <td>4.790000e+02</td>\n",
       "    </tr>\n",
       "    <tr>\n",
       "      <th>X COORDINATE</th>\n",
       "      <td>163959.0</td>\n",
       "      <td>1.159712e+06</td>\n",
       "      <td>15705.602414</td>\n",
       "      <td>1.121638e+06</td>\n",
       "      <td>1.149783e+06</td>\n",
       "      <td>1.159169e+06</td>\n",
       "      <td>1.167170e+06</td>\n",
       "      <td>1.203645e+06</td>\n",
       "    </tr>\n",
       "    <tr>\n",
       "      <th>Y COORDINATE</th>\n",
       "      <td>163959.0</td>\n",
       "      <td>1.893473e+06</td>\n",
       "      <td>32123.925092</td>\n",
       "      <td>1.820629e+06</td>\n",
       "      <td>1.868078e+06</td>\n",
       "      <td>1.898488e+06</td>\n",
       "      <td>1.920991e+06</td>\n",
       "      <td>1.943342e+06</td>\n",
       "    </tr>\n",
       "    <tr>\n",
       "      <th>LATITUDE</th>\n",
       "      <td>163959.0</td>\n",
       "      <td>4.186339e+01</td>\n",
       "      <td>0.088338</td>\n",
       "      <td>4.166317e+01</td>\n",
       "      <td>4.179349e+01</td>\n",
       "      <td>4.187724e+01</td>\n",
       "      <td>4.193904e+01</td>\n",
       "      <td>4.200026e+01</td>\n",
       "    </tr>\n",
       "    <tr>\n",
       "      <th>LONGITUDE</th>\n",
       "      <td>163959.0</td>\n",
       "      <td>-8.768923e+01</td>\n",
       "      <td>0.057135</td>\n",
       "      <td>-8.782832e+01</td>\n",
       "      <td>-8.772508e+01</td>\n",
       "      <td>-8.768980e+01</td>\n",
       "      <td>-8.766281e+01</td>\n",
       "      <td>-8.752985e+01</td>\n",
       "    </tr>\n",
       "  </tbody>\n",
       "</table>\n",
       "</div>"
      ],
      "text/plain": [
       "                 count          mean           std           min  \\\n",
       "VIOLATIONS    170521.0  2.888045e+01     36.636151  1.000000e+00   \n",
       "X COORDINATE  163959.0  1.159712e+06  15705.602414  1.121638e+06   \n",
       "Y COORDINATE  163959.0  1.893473e+06  32123.925092  1.820629e+06   \n",
       "LATITUDE      163959.0  4.186339e+01      0.088338  4.166317e+01   \n",
       "LONGITUDE     163959.0 -8.768923e+01      0.057135 -8.782832e+01   \n",
       "\n",
       "                       25%           50%           75%           max  \n",
       "VIOLATIONS    7.000000e+00  1.600000e+01  3.700000e+01  4.790000e+02  \n",
       "X COORDINATE  1.149783e+06  1.159169e+06  1.167170e+06  1.203645e+06  \n",
       "Y COORDINATE  1.868078e+06  1.898488e+06  1.920991e+06  1.943342e+06  \n",
       "LATITUDE      4.179349e+01  4.187724e+01  4.193904e+01  4.200026e+01  \n",
       "LONGITUDE    -8.772508e+01 -8.768980e+01 -8.766281e+01 -8.752985e+01  "
      ]
     },
     "execution_count": 6,
     "metadata": {},
     "output_type": "execute_result"
    }
   ],
   "source": [
    "df.describe().T"
   ]
  },
  {
   "cell_type": "code",
   "execution_count": 7,
   "metadata": {},
   "outputs": [
    {
     "data": {
      "text/html": [
       "<div>\n",
       "<style scoped>\n",
       "    .dataframe tbody tr th:only-of-type {\n",
       "        vertical-align: middle;\n",
       "    }\n",
       "\n",
       "    .dataframe tbody tr th {\n",
       "        vertical-align: top;\n",
       "    }\n",
       "\n",
       "    .dataframe thead th {\n",
       "        text-align: right;\n",
       "    }\n",
       "</style>\n",
       "<table border=\"1\" class=\"dataframe\">\n",
       "  <thead>\n",
       "    <tr style=\"text-align: right;\">\n",
       "      <th></th>\n",
       "      <th>ADDRESS</th>\n",
       "      <th>CAMERA ID</th>\n",
       "      <th>VIOLATION DATE</th>\n",
       "      <th>VIOLATIONS</th>\n",
       "    </tr>\n",
       "  </thead>\n",
       "  <tbody>\n",
       "    <tr>\n",
       "      <th>0</th>\n",
       "      <td>7738 S WESTERN</td>\n",
       "      <td>CHI065</td>\n",
       "      <td>7/8/2014</td>\n",
       "      <td>65</td>\n",
       "    </tr>\n",
       "    <tr>\n",
       "      <th>1</th>\n",
       "      <td>1111 N HUMBOLDT</td>\n",
       "      <td>CHI010</td>\n",
       "      <td>7/16/2014</td>\n",
       "      <td>56</td>\n",
       "    </tr>\n",
       "    <tr>\n",
       "      <th>2</th>\n",
       "      <td>5520 S WESTERN</td>\n",
       "      <td>CHI069</td>\n",
       "      <td>7/8/2014</td>\n",
       "      <td>10</td>\n",
       "    </tr>\n",
       "    <tr>\n",
       "      <th>3</th>\n",
       "      <td>1111 N HUMBOLDT</td>\n",
       "      <td>CHI010</td>\n",
       "      <td>7/26/2014</td>\n",
       "      <td>101</td>\n",
       "    </tr>\n",
       "    <tr>\n",
       "      <th>4</th>\n",
       "      <td>1111 N HUMBOLDT</td>\n",
       "      <td>CHI010</td>\n",
       "      <td>7/27/2014</td>\n",
       "      <td>92</td>\n",
       "    </tr>\n",
       "  </tbody>\n",
       "</table>\n",
       "</div>"
      ],
      "text/plain": [
       "           ADDRESS CAMERA ID VIOLATION DATE  VIOLATIONS\n",
       "0   7738 S WESTERN    CHI065       7/8/2014          65\n",
       "1  1111 N HUMBOLDT    CHI010      7/16/2014          56\n",
       "2   5520 S WESTERN    CHI069       7/8/2014          10\n",
       "3  1111 N HUMBOLDT    CHI010      7/26/2014         101\n",
       "4  1111 N HUMBOLDT    CHI010      7/27/2014          92"
      ]
     },
     "execution_count": 7,
     "metadata": {},
     "output_type": "execute_result"
    }
   ],
   "source": [
    "# Droping unneccesary columns\n",
    "# Even we can represents camera locations using Lat/Long along with heatmap using FOLIUM\n",
    "\n",
    "df.drop(['X COORDINATE','Y COORDINATE', 'LATITUDE', 'LONGITUDE', 'LOCATION'], axis=1, inplace=True)\n",
    "df.head()"
   ]
  },
  {
   "cell_type": "code",
   "execution_count": 8,
   "metadata": {},
   "outputs": [
    {
     "data": {
      "text/plain": [
       "(170521, 4)"
      ]
     },
     "execution_count": 8,
     "metadata": {},
     "output_type": "execute_result"
    }
   ],
   "source": [
    "df.drop_duplicates(keep=False,inplace=True) \n",
    "df.shape"
   ]
  },
  {
   "cell_type": "code",
   "execution_count": 9,
   "metadata": {},
   "outputs": [
    {
     "data": {
      "text/html": [
       "<div>\n",
       "<style scoped>\n",
       "    .dataframe tbody tr th:only-of-type {\n",
       "        vertical-align: middle;\n",
       "    }\n",
       "\n",
       "    .dataframe tbody tr th {\n",
       "        vertical-align: top;\n",
       "    }\n",
       "\n",
       "    .dataframe thead th {\n",
       "        text-align: right;\n",
       "    }\n",
       "</style>\n",
       "<table border=\"1\" class=\"dataframe\">\n",
       "  <thead>\n",
       "    <tr style=\"text-align: right;\">\n",
       "      <th></th>\n",
       "      <th>count</th>\n",
       "      <th>mean</th>\n",
       "      <th>std</th>\n",
       "      <th>min</th>\n",
       "      <th>25%</th>\n",
       "      <th>50%</th>\n",
       "      <th>75%</th>\n",
       "      <th>max</th>\n",
       "    </tr>\n",
       "  </thead>\n",
       "  <tbody>\n",
       "    <tr>\n",
       "      <th>VIOLATIONS</th>\n",
       "      <td>170521.0</td>\n",
       "      <td>28.880449</td>\n",
       "      <td>36.636151</td>\n",
       "      <td>1.0</td>\n",
       "      <td>7.0</td>\n",
       "      <td>16.0</td>\n",
       "      <td>37.0</td>\n",
       "      <td>479.0</td>\n",
       "    </tr>\n",
       "  </tbody>\n",
       "</table>\n",
       "</div>"
      ],
      "text/plain": [
       "               count       mean        std  min  25%   50%   75%    max\n",
       "VIOLATIONS  170521.0  28.880449  36.636151  1.0  7.0  16.0  37.0  479.0"
      ]
     },
     "execution_count": 9,
     "metadata": {},
     "output_type": "execute_result"
    }
   ],
   "source": [
    "df.describe().T"
   ]
  },
  {
   "cell_type": "code",
   "execution_count": 10,
   "metadata": {},
   "outputs": [
    {
     "data": {
      "text/plain": [
       "ADDRESS           0\n",
       "CAMERA ID         0\n",
       "VIOLATION DATE    0\n",
       "VIOLATIONS        0\n",
       "dtype: int64"
      ]
     },
     "execution_count": 10,
     "metadata": {},
     "output_type": "execute_result"
    }
   ],
   "source": [
    "df.isnull().sum()"
   ]
  },
  {
   "cell_type": "code",
   "execution_count": 11,
   "metadata": {},
   "outputs": [],
   "source": [
    "# Adding column named as Violation Day Of Week\n",
    "\n",
    "df['VIOLATION DAY OF WEEK'] = pd.to_datetime(df['VIOLATION DATE'], errors='coerce').dt.weekday_name"
   ]
  },
  {
   "cell_type": "code",
   "execution_count": 12,
   "metadata": {},
   "outputs": [
    {
     "data": {
      "text/html": [
       "<div>\n",
       "<style scoped>\n",
       "    .dataframe tbody tr th:only-of-type {\n",
       "        vertical-align: middle;\n",
       "    }\n",
       "\n",
       "    .dataframe tbody tr th {\n",
       "        vertical-align: top;\n",
       "    }\n",
       "\n",
       "    .dataframe thead th {\n",
       "        text-align: right;\n",
       "    }\n",
       "</style>\n",
       "<table border=\"1\" class=\"dataframe\">\n",
       "  <thead>\n",
       "    <tr style=\"text-align: right;\">\n",
       "      <th></th>\n",
       "      <th>ADDRESS</th>\n",
       "      <th>CAMERA ID</th>\n",
       "      <th>VIOLATION DATE</th>\n",
       "      <th>VIOLATIONS</th>\n",
       "      <th>VIOLATION DAY OF WEEK</th>\n",
       "    </tr>\n",
       "  </thead>\n",
       "  <tbody>\n",
       "    <tr>\n",
       "      <th>0</th>\n",
       "      <td>7738 S WESTERN</td>\n",
       "      <td>CHI065</td>\n",
       "      <td>7/8/2014</td>\n",
       "      <td>65</td>\n",
       "      <td>Tuesday</td>\n",
       "    </tr>\n",
       "    <tr>\n",
       "      <th>1</th>\n",
       "      <td>1111 N HUMBOLDT</td>\n",
       "      <td>CHI010</td>\n",
       "      <td>7/16/2014</td>\n",
       "      <td>56</td>\n",
       "      <td>Wednesday</td>\n",
       "    </tr>\n",
       "    <tr>\n",
       "      <th>2</th>\n",
       "      <td>5520 S WESTERN</td>\n",
       "      <td>CHI069</td>\n",
       "      <td>7/8/2014</td>\n",
       "      <td>10</td>\n",
       "      <td>Tuesday</td>\n",
       "    </tr>\n",
       "    <tr>\n",
       "      <th>3</th>\n",
       "      <td>1111 N HUMBOLDT</td>\n",
       "      <td>CHI010</td>\n",
       "      <td>7/26/2014</td>\n",
       "      <td>101</td>\n",
       "      <td>Saturday</td>\n",
       "    </tr>\n",
       "    <tr>\n",
       "      <th>4</th>\n",
       "      <td>1111 N HUMBOLDT</td>\n",
       "      <td>CHI010</td>\n",
       "      <td>7/27/2014</td>\n",
       "      <td>92</td>\n",
       "      <td>Sunday</td>\n",
       "    </tr>\n",
       "  </tbody>\n",
       "</table>\n",
       "</div>"
      ],
      "text/plain": [
       "           ADDRESS CAMERA ID VIOLATION DATE  VIOLATIONS VIOLATION DAY OF WEEK\n",
       "0   7738 S WESTERN    CHI065       7/8/2014          65               Tuesday\n",
       "1  1111 N HUMBOLDT    CHI010      7/16/2014          56             Wednesday\n",
       "2   5520 S WESTERN    CHI069       7/8/2014          10               Tuesday\n",
       "3  1111 N HUMBOLDT    CHI010      7/26/2014         101              Saturday\n",
       "4  1111 N HUMBOLDT    CHI010      7/27/2014          92                Sunday"
      ]
     },
     "execution_count": 12,
     "metadata": {},
     "output_type": "execute_result"
    }
   ],
   "source": [
    "df.head()"
   ]
  },
  {
   "cell_type": "code",
   "execution_count": 13,
   "metadata": {},
   "outputs": [
    {
     "data": {
      "text/html": [
       "<div>\n",
       "<style scoped>\n",
       "    .dataframe tbody tr th:only-of-type {\n",
       "        vertical-align: middle;\n",
       "    }\n",
       "\n",
       "    .dataframe tbody tr th {\n",
       "        vertical-align: top;\n",
       "    }\n",
       "\n",
       "    .dataframe thead th {\n",
       "        text-align: right;\n",
       "    }\n",
       "</style>\n",
       "<table border=\"1\" class=\"dataframe\">\n",
       "  <thead>\n",
       "    <tr style=\"text-align: right;\">\n",
       "      <th></th>\n",
       "      <th>ADDRESS</th>\n",
       "      <th>CAMERA ID</th>\n",
       "      <th>VIOLATION DATE</th>\n",
       "      <th>VIOLATIONS</th>\n",
       "      <th>VIOLATION DAY OF WEEK</th>\n",
       "    </tr>\n",
       "  </thead>\n",
       "  <tbody>\n",
       "    <tr>\n",
       "      <th>170516</th>\n",
       "      <td>140 N ASHLAND</td>\n",
       "      <td>CHI076</td>\n",
       "      <td>12/22/2018</td>\n",
       "      <td>14</td>\n",
       "      <td>Saturday</td>\n",
       "    </tr>\n",
       "    <tr>\n",
       "      <th>170517</th>\n",
       "      <td>3646 W MADISON</td>\n",
       "      <td>CHI009</td>\n",
       "      <td>12/22/2018</td>\n",
       "      <td>45</td>\n",
       "      <td>Saturday</td>\n",
       "    </tr>\n",
       "    <tr>\n",
       "      <th>170518</th>\n",
       "      <td>4433 N WESTERN</td>\n",
       "      <td>CHI055</td>\n",
       "      <td>12/22/2018</td>\n",
       "      <td>12</td>\n",
       "      <td>Saturday</td>\n",
       "    </tr>\n",
       "    <tr>\n",
       "      <th>170519</th>\n",
       "      <td>7826 S PULASKI</td>\n",
       "      <td>CHI072</td>\n",
       "      <td>12/6/2018</td>\n",
       "      <td>2</td>\n",
       "      <td>Thursday</td>\n",
       "    </tr>\n",
       "    <tr>\n",
       "      <th>170520</th>\n",
       "      <td>5520 S WESTERN</td>\n",
       "      <td>CHI069</td>\n",
       "      <td>12/22/2018</td>\n",
       "      <td>32</td>\n",
       "      <td>Saturday</td>\n",
       "    </tr>\n",
       "  </tbody>\n",
       "</table>\n",
       "</div>"
      ],
      "text/plain": [
       "               ADDRESS CAMERA ID VIOLATION DATE  VIOLATIONS  \\\n",
       "170516   140 N ASHLAND    CHI076     12/22/2018          14   \n",
       "170517  3646 W MADISON    CHI009     12/22/2018          45   \n",
       "170518  4433 N WESTERN    CHI055     12/22/2018          12   \n",
       "170519  7826 S PULASKI    CHI072      12/6/2018           2   \n",
       "170520  5520 S WESTERN    CHI069     12/22/2018          32   \n",
       "\n",
       "       VIOLATION DAY OF WEEK  \n",
       "170516              Saturday  \n",
       "170517              Saturday  \n",
       "170518              Saturday  \n",
       "170519              Thursday  \n",
       "170520              Saturday  "
      ]
     },
     "execution_count": 13,
     "metadata": {},
     "output_type": "execute_result"
    }
   ],
   "source": [
    "df.tail()"
   ]
  },
  {
   "cell_type": "code",
   "execution_count": 14,
   "metadata": {},
   "outputs": [
    {
     "data": {
      "text/plain": [
       "Timestamp('2018-12-23 00:00:00')"
      ]
     },
     "execution_count": 14,
     "metadata": {},
     "output_type": "execute_result"
    }
   ],
   "source": [
    "df['CAMERA ID'].max()\n",
    "df['VIOLATION DATE']=pd.to_datetime(df['VIOLATION DATE'])\n",
    "df['VIOLATION DATE'].max()\n",
    "#df.min()"
   ]
  },
  {
   "cell_type": "markdown",
   "metadata": {},
   "source": [
    "## Ans: 1 ) Average # of citations issued per Camera, per Day"
   ]
  },
  {
   "cell_type": "code",
   "execution_count": 15,
   "metadata": {},
   "outputs": [
    {
     "data": {
      "text/plain": [
       "CAMERA ID  VIOLATION DAY OF WEEK\n",
       "CHI003     Friday                   114.546256\n",
       "           Monday                   100.767857\n",
       "           Saturday                 150.621145\n",
       "           Sunday                   146.911504\n",
       "           Thursday                 106.185022\n",
       "           Tuesday                   96.951327\n",
       "           Wednesday                 98.211454\n",
       "CHI004     Friday                    35.004292\n",
       "           Monday                    30.286957\n",
       "           Saturday                  41.576923\n",
       "           Sunday                    36.493562\n",
       "           Thursday                  34.627706\n",
       "           Tuesday                   32.549356\n",
       "           Wednesday                 32.841202\n",
       "CHI005     Friday                    12.940171\n",
       "           Monday                    10.922414\n",
       "           Saturday                  14.111111\n",
       "           Sunday                    12.396552\n",
       "           Thursday                  11.751073\n",
       "           Tuesday                   11.094421\n",
       "           Wednesday                 11.098291\n",
       "CHI007     Friday                    60.951111\n",
       "           Monday                    55.669643\n",
       "           Saturday                  70.253333\n",
       "           Sunday                    62.711111\n",
       "           Thursday                  57.793722\n",
       "           Tuesday                   55.039823\n",
       "           Wednesday                 55.433036\n",
       "CHI008     Friday                    21.128755\n",
       "           Monday                    17.310044\n",
       "                                       ...    \n",
       "CHI179     Friday                     4.000000\n",
       "           Monday                     4.571429\n",
       "           Thursday                   4.857143\n",
       "           Tuesday                    4.857143\n",
       "           Wednesday                  8.142857\n",
       "CHI180     Friday                    36.125000\n",
       "           Monday                    23.800000\n",
       "           Thursday                  31.125000\n",
       "           Tuesday                   25.454545\n",
       "           Wednesday                 31.181818\n",
       "CHI181     Friday                    28.875000\n",
       "           Monday                    28.600000\n",
       "           Thursday                  28.888889\n",
       "           Tuesday                   27.090909\n",
       "           Wednesday                 26.272727\n",
       "CHI182     Friday                    60.125000\n",
       "           Monday                    45.750000\n",
       "           Thursday                  76.571429\n",
       "           Tuesday                   56.222222\n",
       "           Wednesday                 55.125000\n",
       "CHI183     Friday                    22.571429\n",
       "           Monday                    27.166667\n",
       "           Thursday                  23.375000\n",
       "           Tuesday                   20.555556\n",
       "           Wednesday                 29.000000\n",
       "CHI184     Friday                    96.375000\n",
       "           Monday                    58.200000\n",
       "           Thursday                  63.333333\n",
       "           Tuesday                   72.500000\n",
       "           Wednesday                 85.100000\n",
       "Name: VIOLATIONS, Length: 974, dtype: float64"
      ]
     },
     "execution_count": 15,
     "metadata": {},
     "output_type": "execute_result"
    }
   ],
   "source": [
    "df['VIOLATIONS'].groupby([df['CAMERA ID'], df['VIOLATION DAY OF WEEK']]).mean()\n"
   ]
  },
  {
   "cell_type": "code",
   "execution_count": 16,
   "metadata": {},
   "outputs": [
    {
     "data": {
      "text/plain": [
       "VIOLATION DAY OF WEEK\n",
       "Friday       753468\n",
       "Monday       686724\n",
       "Saturday     676715\n",
       "Sunday       663801\n",
       "Thursday     730603\n",
       "Tuesday      708276\n",
       "Wednesday    705136\n",
       "Name: VIOLATIONS, dtype: int64"
      ]
     },
     "execution_count": 16,
     "metadata": {},
     "output_type": "execute_result"
    }
   ],
   "source": [
    "df['VIOLATIONS'].groupby(df['VIOLATION DAY OF WEEK']).sum()\n"
   ]
  },
  {
   "cell_type": "markdown",
   "metadata": {},
   "source": [
    "### A:2) On FRIDAY most # of citations are issued."
   ]
  },
  {
   "cell_type": "code",
   "execution_count": 17,
   "metadata": {},
   "outputs": [
    {
     "data": {
      "text/html": [
       "<div>\n",
       "<style scoped>\n",
       "    .dataframe tbody tr th:only-of-type {\n",
       "        vertical-align: middle;\n",
       "    }\n",
       "\n",
       "    .dataframe tbody tr th {\n",
       "        vertical-align: top;\n",
       "    }\n",
       "\n",
       "    .dataframe thead th {\n",
       "        text-align: right;\n",
       "    }\n",
       "</style>\n",
       "<table border=\"1\" class=\"dataframe\">\n",
       "  <thead>\n",
       "    <tr style=\"text-align: right;\">\n",
       "      <th></th>\n",
       "      <th>VIOLATIONS</th>\n",
       "    </tr>\n",
       "    <tr>\n",
       "      <th>VIOLATION DAY OF WEEK</th>\n",
       "      <th></th>\n",
       "    </tr>\n",
       "  </thead>\n",
       "  <tbody>\n",
       "    <tr>\n",
       "      <th>Friday</th>\n",
       "      <td>753468</td>\n",
       "    </tr>\n",
       "    <tr>\n",
       "      <th>Monday</th>\n",
       "      <td>686724</td>\n",
       "    </tr>\n",
       "    <tr>\n",
       "      <th>Saturday</th>\n",
       "      <td>676715</td>\n",
       "    </tr>\n",
       "    <tr>\n",
       "      <th>Sunday</th>\n",
       "      <td>663801</td>\n",
       "    </tr>\n",
       "    <tr>\n",
       "      <th>Thursday</th>\n",
       "      <td>730603</td>\n",
       "    </tr>\n",
       "    <tr>\n",
       "      <th>Tuesday</th>\n",
       "      <td>708276</td>\n",
       "    </tr>\n",
       "    <tr>\n",
       "      <th>Wednesday</th>\n",
       "      <td>705136</td>\n",
       "    </tr>\n",
       "  </tbody>\n",
       "</table>\n",
       "</div>"
      ],
      "text/plain": [
       "                       VIOLATIONS\n",
       "VIOLATION DAY OF WEEK            \n",
       "Friday                     753468\n",
       "Monday                     686724\n",
       "Saturday                   676715\n",
       "Sunday                     663801\n",
       "Thursday                   730603\n",
       "Tuesday                    708276\n",
       "Wednesday                  705136"
      ]
     },
     "execution_count": 17,
     "metadata": {},
     "output_type": "execute_result"
    }
   ],
   "source": [
    "df.groupby('VIOLATION DAY OF WEEK').sum()[['VIOLATIONS']]\n",
    "# total citations 4924723"
   ]
  },
  {
   "cell_type": "code",
   "execution_count": 18,
   "metadata": {},
   "outputs": [
    {
     "data": {
      "text/plain": [
       "Text(0,0.5,'# of Violations')"
      ]
     },
     "execution_count": 18,
     "metadata": {},
     "output_type": "execute_result"
    },
    {
     "data": {
      "image/png": "[encoded data removed]",
      "text/plain": [
       "<Figure size 432x288 with 1 Axes>"
      ]
     },
     "metadata": {
      "needs_background": "light"
     },
     "output_type": "display_data"
    }
   ],
   "source": [
    "df.groupby('VIOLATION DAY OF WEEK').sum()[['VIOLATIONS']].plot(kind='bar')\n",
    "plt.title('Violations as per day in a week')\n",
    "plt.ylabel('# of Violations')"
   ]
  },
  {
   "cell_type": "code",
   "execution_count": 19,
   "metadata": {},
   "outputs": [],
   "source": [
    "# Just to validate: average # of citations per day\n",
    "\n",
    "#df['VIOLATIONS'].sum()"
   ]
  },
  {
   "cell_type": "markdown",
   "metadata": {},
   "source": [
    "### Data Collection Start Date: 2014-07-01 00:00:00 & End Date: 2018-12-23 00:00:00"
   ]
  },
  {
   "cell_type": "code",
   "execution_count": 20,
   "metadata": {},
   "outputs": [
    {
     "name": "stdout",
     "output_type": "stream",
     "text": [
      "Data Collection Start Date: 2014-07-01 00:00:00 & End Date: 2018-12-23 00:00:00\n"
     ]
    }
   ],
   "source": [
    "print(\"Data Collection Start Date: \" + str(min(df['VIOLATION DATE'])) + \" & End Date: \" + str(max(df['VIOLATION DATE'])))"
   ]
  },
  {
   "cell_type": "markdown",
   "metadata": {},
   "source": [
    "## Ans: 3) As per figures, we can see # of cameras increased over the collection period.\n",
    "###               We can see interesting patterns as WEEKDAYS & WEEKEND with various sampling."
   ]
  },
  {
   "cell_type": "code",
   "execution_count": 21,
   "metadata": {},
   "outputs": [
    {
     "data": {
      "text/plain": [
       "Text(0,0.5,'# of cameras')"
      ]
     },
     "execution_count": 21,
     "metadata": {},
     "output_type": "execute_result"
    },
    {
     "data": {
      "image/png": "[encoded data removed]",
      "text/plain": [
       "<Figure size 432x288 with 1 Axes>"
      ]
     },
     "metadata": {
      "needs_background": "light"
     },
     "output_type": "display_data"
    }
   ],
   "source": [
    "#df.groupby([df['VIOLATION DATE'],df['CAMERA ID']]).apply(lambda x: sum(df['sample']))\n",
    "\n",
    "# Resampling for 7 Days\n",
    "\n",
    "x3=(df.groupby(df['VIOLATION DATE']))['CAMERA ID'].nunique()\n",
    "\n",
    "x3.resample('7D').sum().plot(kind='line')\n",
    "plt.title('Repetative Patterns: 7 DAYS')\n",
    "plt.xlabel('Validation Date')\n",
    "plt.ylabel('# of cameras')\n",
    "# total citations 4924723"
   ]
  },
  {
   "cell_type": "code",
   "execution_count": 22,
   "metadata": {},
   "outputs": [
    {
     "data": {
      "text/plain": [
       "Text(0,0.5,'# of cameras')"
      ]
     },
     "execution_count": 22,
     "metadata": {},
     "output_type": "execute_result"
    },
    {
     "data": {
      "image/png": "[encoded data removed]",
      "text/plain": [
       "<Figure size 432x288 with 1 Axes>"
      ]
     },
     "metadata": {
      "needs_background": "light"
     },
     "output_type": "display_data"
    }
   ],
   "source": [
    "# Resampling for 14 days\n",
    "\n",
    "x4=(df.groupby(df['VIOLATION DATE']))['CAMERA ID'].nunique()\n",
    "\n",
    "x4.resample('14D').sum().plot(kind='line')\n",
    "plt.title('Repetative Patterns: 14 DAYS')\n",
    "plt.xlabel('Validation Date')\n",
    "plt.ylabel('# of cameras')"
   ]
  },
  {
   "cell_type": "code",
   "execution_count": 23,
   "metadata": {},
   "outputs": [
    {
     "data": {
      "text/plain": [
       "Text(0,0.5,'# of cameras')"
      ]
     },
     "execution_count": 23,
     "metadata": {},
     "output_type": "execute_result"
    },
    {
     "data": {
      "image/png": "[encoded data removed]",
      "text/plain": [
       "<Figure size 432x288 with 1 Axes>"
      ]
     },
     "metadata": {
      "needs_background": "light"
     },
     "output_type": "display_data"
    }
   ],
   "source": [
    "# Resampling for 2 months\n",
    "\n",
    "x5=(df.groupby(df['VIOLATION DATE']))['CAMERA ID'].nunique()\n",
    "\n",
    "x5.resample('2m').sum().plot(kind='line')\n",
    "plt.title('Repetative Patterns: 2 Months')\n",
    "plt.xlabel('Validation Date')\n",
    "plt.ylabel('# of cameras')\n"
   ]
  },
  {
   "cell_type": "code",
   "execution_count": 24,
   "metadata": {},
   "outputs": [
    {
     "data": {
      "text/plain": [
       "Text(0,0.5,'# of cameras')"
      ]
     },
     "execution_count": 24,
     "metadata": {},
     "output_type": "execute_result"
    },
    {
     "data": {
      "image/png": "[encoded data removed]",
      "text/plain": [
       "<Figure size 432x288 with 1 Axes>"
      ]
     },
     "metadata": {
      "needs_background": "light"
     },
     "output_type": "display_data"
    }
   ],
   "source": [
    "# Resampling for yearly\n",
    "\n",
    "x5=(df.groupby(df['VIOLATION DATE']))['CAMERA ID'].nunique()\n",
    "\n",
    "x5.resample('y').sum().plot(kind='line')\n",
    "plt.title('Repetative Patterns: Yearly')\n",
    "plt.xlabel('Validation Date')\n",
    "plt.ylabel('# of cameras')"
   ]
  },
  {
   "cell_type": "code",
   "execution_count": 25,
   "metadata": {},
   "outputs": [],
   "source": [
    "#(df.groupby(df['VIOLATION DAY OF WEEK']))['CAMERA ID'].nunique()\n"
   ]
  }
 ],
 "metadata": {
  "kernelspec": {
   "display_name": "Python 3",
   "language": "python",
   "name": "python3"
  },
  "language_info": {
   "codemirror_mode": {
    "name": "ipython",
    "version": 3
   },
   "file_extension": ".py",
   "mimetype": "text/x-python",
   "name": "python",
   "nbconvert_exporter": "python",
   "pygments_lexer": "ipython3",
   "version": "3.7.0"
  }
 },
 "nbformat": 4,
 "nbformat_minor": 2
}
